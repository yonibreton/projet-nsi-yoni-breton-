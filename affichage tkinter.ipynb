{
  "cells": [
    {
      "cell_type": "code",
      "source": [
        "\"\"\" grace a cela , lorsque les requetes SQL sont lus, elle sont afficher a l'aide d'une interface tkinter\"\"\"\n",
        "\"\"\"cette fonction est encore a modifier , elle affcihe 'test' pour le moment\"\"\"\n",
        "\n",
        "import tkinter\n",
        "import os\n",
        "\n",
        "def afficher_table(table, titre =\"\", debut = 0, fin = None):\n",
        "\n",
        "\tif titre != \"\":\n",
        "\t\ttitre += \"\\n\\n\"\n",
        "\t#print(titre + texte_table(table, debut, fin))\n",
        "\taffichage(titre + texte_table(table, debut, fin), titre)\n",
        "\n",
        "\n",
        "def affichage(texte, titre = \"Requêtes tables\"):\n",
        "\t\n",
        "\troot = tkinter.Tk()\n",
        "\troot.title(str(titre))\n",
        "\tRWidth=root.winfo_screenwidth() - 100\n",
        "\tRHeight=root.winfo_screenheight() - 100\n",
        "\troot.geometry(\"%dx%d+50+0\"%(RWidth, RHeight))\n",
        "\ttext=tkinter.Text(root, wrap = 'none')\n",
        "\tscroll_x=tkinter.Scrollbar(text.master, orient='horizontal', command = text.xview)\n",
        "\tscroll_x.config(command = text.xview)\n",
        "\ttext.configure(xscrollcommand = scroll_x.set)\n",
        "\tscroll_x.pack(side = 'bottom', fill = 'x', anchor = 'w')\n",
        "\tscroll_y = tkinter.Scrollbar(text.master)\n",
        "\tscroll_y.config(command = text.yview)\n",
        "\ttext.configure(yscrollcommand = scroll_y.set)\n",
        "\tscroll_y.pack(side = tkinter.RIGHT, fill = 'y')\n",
        "\ttext.insert(\"1.0\", texte)\n",
        "\ttext.pack(side = tkinter.LEFT, expand = True, fill = tkinter.BOTH)\n",
        "\troot.mainloop()\n",
        "chaine=\"la question sql\"\n",
        "chaine=chaine+\"\\n\"+\"la reponse sql\"\n",
        "affichage(chaine,titre = \"Requêtes tables\")"
      ],
      "outputs": [],
      "execution_count": 7,
      "metadata": {
        "collapsed": true,
        "jupyter": {
          "source_hidden": false,
          "outputs_hidden": false
        },
        "nteract": {
          "transient": {
            "deleting": false
          }
        },
        "execution": {
          "iopub.status.busy": "2021-03-26T13:46:25.074Z",
          "iopub.execute_input": "2021-03-26T13:46:25.097Z",
          "iopub.status.idle": "2021-03-26T13:46:32.428Z",
          "shell.execute_reply": "2021-03-26T13:46:32.414Z"
        }
      }
    },
    {
      "cell_type": "code",
      "source": [],
      "outputs": [],
      "execution_count": null,
      "metadata": {
        "collapsed": true,
        "jupyter": {
          "source_hidden": false,
          "outputs_hidden": false
        },
        "nteract": {
          "transient": {
            "deleting": false
          }
        }
      }
    },
    {
      "cell_type": "code",
      "source": [],
      "outputs": [],
      "execution_count": null,
      "metadata": {
        "collapsed": true,
        "jupyter": {
          "source_hidden": false,
          "outputs_hidden": false
        },
        "nteract": {
          "transient": {
            "deleting": false
          }
        }
      }
    }
  ],
  "metadata": {
    "kernel_info": {
      "name": "python3"
    },
    "language_info": {
      "name": "python",
      "version": "3.8.5",
      "mimetype": "text/x-python",
      "codemirror_mode": {
        "name": "ipython",
        "version": 3
      },
      "pygments_lexer": "ipython3",
      "nbconvert_exporter": "python",
      "file_extension": ".py"
    },
    "kernelspec": {
      "argv": [
        "C:\\Winpython\\python-3.8.5.amd64\\python.exe",
        "-m",
        "ipykernel_launcher",
        "-f",
        "{connection_file}"
      ],
      "display_name": "Python 3",
      "language": "python",
      "name": "python3"
    },
    "nteract": {
      "version": "0.28.0"
    }
  },
  "nbformat": 4,
  "nbformat_minor": 0
}